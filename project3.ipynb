{
 "cells": [
  {
   "cell_type": "code",
   "execution_count": null,
   "metadata": {},
   "outputs": [],
   "source": [
    "import os\n",
    "import time\n",
    "import subprocess\n",
    "import json"
   ]
  },
  {
   "cell_type": "code",
   "execution_count": null,
   "metadata": {},
   "outputs": [],
   "source": [
    "import wolframalpha\n",
    "import requests\n",
    "import webbrowser\n",
    "import wikipedia\n",
    "import datetime"
   ]
  },
  {
   "cell_type": "code",
   "execution_count": null,
   "metadata": {},
   "outputs": [],
   "source": [
    "import speech_recognition as sr\n",
    "import pyttsx3"
   ]
  },
  {
   "cell_type": "code",
   "execution_count": null,
   "metadata": {},
   "outputs": [],
   "source": [
    "print('LOADING YOUR A.I PERSONAL ASSISTANT JARVIS')"
   ]
  },
  {
   "cell_type": "code",
   "execution_count": null,
   "metadata": {},
   "outputs": [],
   "source": [
    "engine = pyttsx3.init('sapi5')\n",
    "voices = engine.getProperty('voices')\n",
    "engine.setProperty(\"voice\",'voices[0].id')"
   ]
  },
  {
   "cell_type": "code",
   "execution_count": null,
   "metadata": {},
   "outputs": [],
   "source": [
    "def speak(text):\n",
    "    engine.say(text)\n",
    "    engine.runAndWait()"
   ]
  },
  {
   "cell_type": "code",
   "execution_count": null,
   "metadata": {},
   "outputs": [],
   "source": [
    "def wishMe():\n",
    "    hour = datetime.datetime.now().hour\n",
    "    if hour >= 0 and hour < 12:\n",
    "        speak(\"Hello, good morning Mr.Bharath\")\n",
    "        print(\"Hello, good morning Mr.Bharath\")\n",
    "    elif hour >=12 and hour <=18:\n",
    "        speak(\"Hello, good afternoon Mr.Bharath\")\n",
    "        print(\"Hello, good afternoon Mr.Bharath\")\n",
    "    else:\n",
    "        speak(\"Hello, good night Mr.Bharath\")\n",
    "        print(\"Hello, good night Mr.Bharath\")"
   ]
  },
  {
   "cell_type": "code",
   "execution_count": null,
   "metadata": {},
   "outputs": [],
   "source": [
    "def takeCommand():\n",
    "    r = sr.Recognizer()\n",
    "    with sr.Microphone() as source:\n",
    "        print(\"I AM LISTENING\")\n",
    "        audio = r.listen(source)\n",
    "        \n",
    "        try:\n",
    "            statement = r.recognize_google(audio,language='en-in')\n",
    "            print(f\"user said:{statement}\\n\")\n",
    "        except Exception as e:\n",
    "            speak(\"pardon me, please say that again\")\n",
    "            return \"None\"\n",
    "        return statement"
   ]
  },
  {
   "cell_type": "code",
   "execution_count": null,
   "metadata": {},
   "outputs": [],
   "source": []
  },
  {
   "cell_type": "code",
   "execution_count": null,
   "metadata": {},
   "outputs": [],
   "source": [
    "\n",
    "speak(\"LOADING YOUR A.I PERSONAL ASSISTANT JARVIS\")\n",
    "wishMe()\n",
    "\n",
    "\n",
    "if __name__ == '__main__':\n",
    "    while True:\n",
    "        speak(\"How can i help you ?\")\n",
    "        statement = takeCommand.lower()\n",
    "        if statement == 0:\n",
    "            continue\n",
    "        if \"good bye\" in statement or \"ok bye\" in statement or \"stop\" in statement:\n",
    "            speak('YOUR PERSONAL AI ASSISTANT JARVIS is shutting dowm, good bye')\n",
    "            print('YOUR PERSONAL AI ASSISTANT JARVIS is shutting dowm, good bye')\n",
    "            break\n",
    "            \n",
    "        if 'wikipedia' in statement:\n",
    "            speak(\"Searching wikipedia....\")\n",
    "            statement = statement.replace(\"wikipedia\",\" \")\n",
    "            results = wikipedia.summary(satement, sentences = 3)\n",
    "            speak(\"According to wikipedia....\")\n",
    "            print(results)\n",
    "            speak(results)\n",
    "            \n",
    "        elif \"open youtube\" in statement:\n",
    "            webbrowser.open_new_tab(\"https://www.youtube.com\")\n",
    "            speak(\"youtube is open for you\")\n",
    "            time.sleep(5)\n",
    "            \n",
    "        elif \"open google\" in statement:\n",
    "            webbrowser.open_new_tab(\"https://www.google.com\")\n",
    "            speak(\"google search is open for you\")\n",
    "            time.slee(5)\n",
    "            \n",
    "        elif \"open gmail\" in statement:\n",
    "            webbrowser.open_new_tab(\"https://accounts.google.com/ServiceLogin/signinchooser?elo=1&flowName=GlifWebSignIn&flowEntry=ServiceLogin\")\n",
    "            speak(\"your gmail is open for you\")\n",
    "            time.sleep(5)\n",
    "            \n",
    "        elif \"weather\" in statement:\n",
    "            api_key =\"8ef61edcf1c576d65d836254e11ea420\"\n",
    "            base_url =\"https://api.openweathermap.org/data/2.5/weather?\"\n",
    "            speak(\"whats the city name\")\n",
    "            city_name = takeCommand()\n",
    "            complete_url = base_url+\"appid =\"+api_key+\"&q=\"+city_name\n",
    "            response = requests.get(complete_url)\n",
    "            x = response.json()\n",
    "            if x[\"cod\"] != \"404\":\n",
    "                y = x[\"main\"]\n",
    "                current_temperature = y[\"temp\"]\n",
    "                current_humidity = y[\"humidity\"]\n",
    "                z = x[\"weather\"]\n",
    "                weather_description = z[0] [\"description\"]\n",
    "                speak(\"The temperature in kelvin units is\" + str(current_temperature) + \"\\n humidity in percenatage is\" + str(current_humidity) \"\\n weather description\" + str(weather_description))\n",
    "                print(\"The temperature in kelvin units is\" + str(current_temperature) + \"\\n humidity in percenatage is\" + str(current_humidity) \"\\n weather description\" + str(weather_description))\n",
    "            else:\n",
    "                speak(\"city not found\")\n",
    "                print(\"city not found\")\n",
    "            elif \"time\" in statement:\n",
    "                strTime = datetime.datetime.now().strftime(\"%H:%M:%S)\n",
    "                speak(f\"The time is {strTime}\")\n",
    "            elif \"who are you\" in statement or \"What can i do\" in statement:\n",
    "                speak(\"I am JARVIS version 1 point 0 your personal\")\n",
    "                                                           \n",
    "            elif \"who made you\" in statement or \"who created you\" in statement or \"who discoverd you\" in statement:\n",
    "                speak(\"I was built by Ironman\")\n",
    "                print(\"I was built by Ironman\")\n",
    "            elif \"open stack overflow\" in statement:\n",
    "                webbrowser.open_new_tab(\"https://stackoverflow.com/login\")\n",
    "                time.slee(5)\n",
    "            elif \"news\" in statement:\n",
    "                news = webbrrowser.open_new_tab(\"https://timesofindia.indiatimes.com/home/headlines\")\n",
    "                speak(\"here the some headlines for you from times of india - happy reading\")\n",
    "                time.sleep(7)\n",
    "                                                           \n",
    "            elif \"search\" in statement:\n",
    "                statement = statement.replace(\"search\",\" \")\n",
    "                webbrowser.open_new_tab(\"statement\")\n",
    "                time.sleep(5)\n",
    "            elif \"ask\" in statement:\n",
    "                speak(\"I can answer to computational and graphical questions too just try me !! what do you want to ask\")\n",
    "                question = takeCommand()\n",
    "                app_id = \"R2K75H-7ELALHR35X&quot\"\n",
    "                client = wolframalpha.Client('R2K75H-7ELALHR35X&quot')\n",
    "                res = client.query(question)\n",
    "                answer = next(res.results).text\n",
    "                speak(answer)\n",
    "                print(answer)\n",
    "                                                        \n",
    "            elif \"log off\" in statement or \"sign out\" in statement or \"shut down\" in statement:\n",
    "                speak(\" ok , your PC will shut down in 10 seconds - make sure you have saved exit from all the application\")\n",
    "                subprocess.call([\"shutdown\",\"/1\"])\n",
    "time.sleep(5)\n",
    "                \n",
    "                                                           \n",
    "            \n",
    "                            \n",
    "                 \n",
    "            "
   ]
  },
  {
   "cell_type": "code",
   "execution_count": null,
   "metadata": {},
   "outputs": [],
   "source": []
  }
 ],
 "metadata": {
  "kernelspec": {
   "display_name": "Python 3",
   "language": "python",
   "name": "python3"
  },
  "language_info": {
   "codemirror_mode": {
    "name": "ipython",
    "version": 3
   },
   "file_extension": ".py",
   "mimetype": "text/x-python",
   "name": "python",
   "nbconvert_exporter": "python",
   "pygments_lexer": "ipython3",
   "version": "3.8.3"
  }
 },
 "nbformat": 4,
 "nbformat_minor": 4
}
